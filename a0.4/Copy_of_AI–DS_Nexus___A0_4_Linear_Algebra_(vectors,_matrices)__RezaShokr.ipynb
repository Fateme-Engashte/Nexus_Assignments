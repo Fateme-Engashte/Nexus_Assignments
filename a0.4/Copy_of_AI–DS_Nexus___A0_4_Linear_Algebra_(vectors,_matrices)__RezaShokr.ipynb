{
  "nbformat": 4,
  "nbformat_minor": 0,
  "metadata": {
    "colab": {
      "provenance": []
    },
    "kernelspec": {
      "name": "python3",
      "display_name": "Python 3"
    },
    "language_info": {
      "name": "python"
    }
  },
  "cells": [
    {
      "cell_type": "markdown",
      "source": [
        "# 📓 Assignment 4 — Linear Algebra Fundamentals\n",
        "\n",
        "*Vectors & Matrices for Everyday Coding*\n",
        "\n"
      ],
      "metadata": {
        "id": "A1k4HkdO05Yu"
      }
    },
    {
      "cell_type": "markdown",
      "source": [
        "## Welcome back, intrepid coder! 🚀\n",
        "In this notebook-styled brief you’ll move from single-direction vectors to multi-direction matrices—core tools behind graphics, robotics, optimisation and (of course) machine-learning. Each mini-section mixes quick notes, a tiny real-world scenario, and hands-on # TODO code shaped for beginners.\n"
      ],
      "metadata": {
        "id": "mBNupqPj1B1_"
      }
    },
    {
      "cell_type": "markdown",
      "source": [
        "## 🧭 Vectors 101\n",
        "\n",
        "| Concept             | Quick reminder                                  |\n",
        "|---------------------|--------------------------------------------------|\n",
        "| Representation      | 1-D NumPy array — `np.array([x, y, z])`         |\n",
        "| Length (norm)       | `np.linalg.norm(v)`                             |\n",
        "| Dot / inner product | `v.dot(w)` or `np.inner(v, w)`                  |\n",
        "| Unit vector         | `v / np.linalg.norm(v)`                         |\n"
      ],
      "metadata": {
        "id": "zD-AyQCe1Y9e"
      }
    },
    {
      "cell_type": "code",
      "execution_count": 1,
      "metadata": {
        "id": "AWVTIlQP0ysC",
        "colab": {
          "base_uri": "https://localhost:8080/"
        },
        "outputId": "2aee9cca-569d-4931-96b6-d9557bab0240"
      },
      "outputs": [
        {
          "output_type": "stream",
          "name": "stdout",
          "text": [
            "Vector v: [3 4 5]\n",
            "Length (‖v‖): 7.0710678118654755\n",
            "Vector w: [1 2 3]\n",
            "Dot product (v·w): 26\n"
          ]
        }
      ],
      "source": [
        "# Run once per session\n",
        "import numpy as np\n",
        "\n",
        "# TODO 1: create a 3-D vector named v\n",
        "v = np.array([3, 4, 5])\n",
        "# TODO 2: print its length\n",
        "length_v = np.linalg.norm(v)\n",
        "print(\"Vector v:\", v)\n",
        "print(\"Length (‖v‖):\", length_v)\n",
        "# TODO 3: build a second vector w and output the dot product\n",
        "w = np.array([1, 2, 3])\n",
        "dot_product = np.dot(v, w)\n",
        "print(\"Vector w:\", w)\n",
        "print(\"Dot product (v·w):\", dot_product)"
      ]
    },
    {
      "cell_type": "markdown",
      "source": [
        "### 🚁 Practical Scenario — “Drone hop”\n",
        "A mini-drone lifts off at (2 m, 1 m) and lands at (7 m, 4 m).\n",
        "Calculate its displacement vector, travel distance, and orientation along the x-axis."
      ],
      "metadata": {
        "id": "c_iB5_0A1rg7"
      }
    },
    {
      "cell_type": "code",
      "source": [
        "import numpy as np\n",
        "\n",
        "p_start = np.array([2, 1])\n",
        "p_end   = np.array([7, 4])\n",
        "\n",
        "# displacement\n",
        "d = p_end - p_start          # ➡️ vector from start to end\n",
        "dist = np.linalg.norm(d)     # 🏁 distance travelled\n",
        "unit = d / dist              # ↗️ unit direction\n",
        "dot_x = d.dot(np.array([1, 0]))  # projection on x-axis\n",
        "\n",
        "print(\"Displacement:\", d)\n",
        "print(\"Distance:\", dist)\n",
        "print(\"Unit direction:\", unit)\n",
        "print(\"Dot-product with x-axis:\", dot_x)\n"
      ],
      "metadata": {
        "id": "Rq-tHCkF1x3p",
        "colab": {
          "base_uri": "https://localhost:8080/"
        },
        "outputId": "850824b3-127f-4999-e4fc-3e56095b2b85"
      },
      "execution_count": 2,
      "outputs": [
        {
          "output_type": "stream",
          "name": "stdout",
          "text": [
            "Displacement: [5 3]\n",
            "Distance: 5.830951894845301\n",
            "Unit direction: [0.85749293 0.51449576]\n",
            "Dot-product with x-axis: 5\n"
          ]
        }
      ]
    },
    {
      "cell_type": "markdown",
      "source": [
        "## 🔢 Matrices 101\n",
        "\n",
        "| Operation              | NumPy one-liner                                  |\n",
        "|------------------------|--------------------------------------------------|\n",
        "| Transpose              | `A.T`                                            |\n",
        "| Determinant            | `np.linalg.det(A)`                               |\n",
        "| Inverse                | `np.linalg.inv(A)` (works only if `det(A) ≠ 0`)  |\n",
        "| Matrix-vector multiply | `A @ v`                                          |\n",
        "| Matrix-matrix multiply | `A @ B`                                          |\n"
      ],
      "metadata": {
        "id": "vqX_pXGq16Af"
      }
    },
    {
      "cell_type": "code",
      "source": [
        "import numpy as np\n",
        "\n",
        "# TODO 4: build a 2×2 matrix A\n",
        "A = np.array([[4, 7],\n",
        "              [2, 6]])\n",
        "\n",
        "# TODO 5: print its determinant\n",
        "det_A = np.linalg.det(A)\n",
        "print(\"Matrix A:\\n\", A)\n",
        "print(\"Determinant of A:\", det_A)\n",
        "\n",
        "# TODO 6: if invertible, compute and print A_inv\n",
        "if det_A != 0:\n",
        "    A_inv = np.linalg.inv(A)\n",
        "    print(\"Inverse of A:\\n\", A_inv)\n",
        "else:\n",
        "    print(\"Matrix A is not invertible (determinant = 0).\")"
      ],
      "metadata": {
        "id": "yycidpaj2BAv",
        "colab": {
          "base_uri": "https://localhost:8080/"
        },
        "outputId": "4539f7ba-4e3b-41cc-fd5a-f6f02435afdd"
      },
      "execution_count": 3,
      "outputs": [
        {
          "output_type": "stream",
          "name": "stdout",
          "text": [
            "Matrix A:\n",
            " [[4 7]\n",
            " [2 6]]\n",
            "Determinant of A: 10.000000000000002\n",
            "Inverse of A:\n",
            " [[ 0.6 -0.7]\n",
            " [-0.2  0.4]]\n"
          ]
        }
      ]
    },
    {
      "cell_type": "markdown",
      "source": [
        "### 🎯 Practical Scenario — “Rotate that hop”\n",
        "Rotate the drone’s displacement vector 30° counter-clockwise, then verify that the inverse rotation brings it back."
      ],
      "metadata": {
        "id": "C-ikgDhF2DFn"
      }
    },
    {
      "cell_type": "code",
      "source": [
        "import numpy as np\n",
        "\n",
        "theta = np.deg2rad(30)          # 🔄 convert degrees to radians\n",
        "R = np.array([[np.cos(theta), -np.sin(theta)],\n",
        "              [np.sin(theta),  np.cos(theta)]])\n",
        "\n",
        "det_R = np.linalg.det(R)        # should be 1.0 (pure rotation)\n",
        "\n",
        "d_rot  = R @ d                  # rotated displacement\n",
        "d_back = np.linalg.inv(R) @ d_rot\n",
        "\n",
        "print(\"Rotation matrix determinant:\", det_R)\n",
        "print(\"Rotated vector:\", d_rot)\n",
        "print(\"Back-rotated equals original?\", np.allclose(d_back, d))\n"
      ],
      "metadata": {
        "id": "SgmIesbf2G65",
        "colab": {
          "base_uri": "https://localhost:8080/"
        },
        "outputId": "7b81965f-fc47-46c8-a0d9-9a2dce379987"
      },
      "execution_count": 4,
      "outputs": [
        {
          "output_type": "stream",
          "name": "stdout",
          "text": [
            "Rotation matrix determinant: 1.0\n",
            "Rotated vector: [2.83012702 5.09807621]\n",
            "Back-rotated equals original? True\n"
          ]
        }
      ]
    }
  ]
}