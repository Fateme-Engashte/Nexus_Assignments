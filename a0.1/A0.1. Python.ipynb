{
  "cells": [
    {
      "cell_type": "markdown",
      "metadata": {
        "id": "ZS5lje_18xC2"
      },
      "source": [
        "# 📚 Assignment 1 — Python Fundamentals\n",
        "Welcome to your first hands-on practice! This set of four mini-projects walks you through the basics every Python (and ML) developer leans on daily:\n",
        "\n",
        "1. Variable types\n",
        "\n",
        "2. Core containers\n",
        "\n",
        "3. Functions\n",
        "\n",
        "4. Classes\n",
        "\n",
        "Each part begins with quick pointers, then gives you two bite-sized tasks to code. Replace every # TODO with working Python and run your script or notebook to check the result. Happy hacking! 😊"
      ]
    },
    {
      "cell_type": "markdown",
      "metadata": {
        "id": "u5vvtK-6840I"
      },
      "source": [
        "## 1. Variable Types 🧮\n",
        "**Quick-start notes**\n",
        "\n",
        "* Primitive types: `int`, `float`, `str`, `bool`\n",
        "\n",
        "* Use `type(obj)` to inspect an object’s type.\n",
        "\n",
        "* Casting ↔ converting: `int(\"3\")`, `str(3.14)`, `bool(0)`, etc."
      ]
    },
    {
      "cell_type": "markdown",
      "metadata": {
        "id": "UyNHtkGm9OgH"
      },
      "source": [
        "### Task 1 — Celsius → Fahrenheit\n",
        "\n"
      ]
    },
    {
      "cell_type": "code",
      "execution_count": null,
      "metadata": {
        "colab": {
          "background_save": true
        },
        "id": "lmaiboJe8E15",
        "outputId": "0ac8b4eb-8e4e-41b0-cd36-ee266a75e029"
      },
      "outputs": [
        {
          "name": "stdout",
          "output_type": "stream",
          "text": [
            "25.0°C is equal to 77.00°F\n"
          ]
        }
      ],
      "source": [
        "# 👉 a Celsius temperature (as text), convert it to float,\n",
        "#    compute Fahrenheit (°F = °C * 9/5 + 32) and print a nicely formatted line.\n",
        "# TODO: your code here\n",
        "# Celsius temperature as text\n",
        "celsius_text = \"25\"\n",
        "\n",
        "# Convert to float\n",
        "celsius = float(celsius_text)\n",
        "\n",
        "# Compute Fahrenheit (°F = °C * 9/5 + 32)\n",
        "fahrenheit = celsius * 9 / 5 + 32\n",
        "\n",
        "# Print nicely formatted line\n",
        "print(f\"{celsius}°C is equal to {fahrenheit:.2f}°F\")\n"
      ]
    },
    {
      "cell_type": "markdown",
      "metadata": {
        "id": "BtsB8QKM9Xs_"
      },
      "source": [
        "### Task 2 — Tiny Calculator\n"
      ]
    },
    {
      "cell_type": "code",
      "execution_count": null,
      "metadata": {
        "colab": {
          "background_save": true
        },
        "id": "DSR8aS-F9Z10",
        "outputId": "0d25d073-e25f-49d7-c3bf-1ab5870610f0"
      },
      "outputs": [
        {
          "name": "stdout",
          "output_type": "stream",
          "text": [
            "Sum: 13.5\n",
            "Difference: 6.5\n",
            "Product: 35.0\n",
            "True Division: 2.857142857142857\n",
            "Floor Division: 2.0\n"
          ]
        }
      ],
      "source": [
        "# 👉 Store two numbers of **different types** (one int, one float),\n",
        "#    then print their sum, difference, product, true division, and floor division.\n",
        "# TODO: your code here\n",
        "# Store two numbers of different types\n",
        "num_int = 10        # int\n",
        "num_float = 3.5     # float\n",
        "\n",
        "# Operations\n",
        "sum_result = num_int + num_float\n",
        "difference = num_int - num_float\n",
        "product = num_int * num_float\n",
        "true_division = num_int / num_float\n",
        "floor_division = num_int // num_float\n",
        "\n",
        "# Print results\n",
        "print(f\"Sum: {sum_result}\")\n",
        "print(f\"Difference: {difference}\")\n",
        "print(f\"Product: {product}\")\n",
        "print(f\"True Division: {true_division}\")\n",
        "print(f\"Floor Division: {floor_division}\")\n"
      ]
    },
    {
      "cell_type": "markdown",
      "metadata": {
        "id": "8JjHX4wy9dPz"
      },
      "source": [
        "## 2. Containers 📦 (list, tuple, set, dict)\n",
        "**Quick-start notes**\n",
        "\n",
        "| Container | Mutable? | Ordered?                      | Typical use                       |\n",
        "| --------- | -------- | ----------------------------- | --------------------------------- |\n",
        "| `list`    | ✔        | ✔                             | Growth, indexing, slicing         |\n",
        "| `tuple`   | ✖        | ✔                             | Fixed-size records, hashable keys |\n",
        "| `set`     | ✔        | ✖                             | Deduplication, membership tests   |\n",
        "| `dict`    | ✔        | ✖ (3.7 + preserves insertion) | Key → value look-ups              |\n"
      ]
    },
    {
      "cell_type": "markdown",
      "metadata": {
        "id": "wRyJyhbt9uUr"
      },
      "source": [
        "### Task 1 — Grocery Basket\n",
        "\n"
      ]
    },
    {
      "cell_type": "code",
      "execution_count": null,
      "metadata": {
        "id": "1J4jcLct9yVO"
      },
      "outputs": [],
      "source": [
        "# Start with an empty shopping list (list).\n",
        "# 1. Append at least 4 items supplied in one line of user input (comma-separated).\n",
        "# 2. Convert the list to a *tuple* called immutable_basket.\n",
        "# 3. Print the third item using tuple indexing.\n",
        "# TODO: your code here\n",
        "# Start with an empty shopping list\n",
        "shopping_list = []\n",
        "\n",
        "# 1. Append at least 4 items from user input (comma-separated)\n",
        "user_input = input(\"Enter at least 4 shopping items, separated by commas: \")\n",
        "shopping_list.extend([item.strip() for item in user_input.split(\",\")])\n",
        "\n",
        "# 2. Convert the list to a tuple\n",
        "immutable_basket = tuple(shopping_list)\n",
        "\n",
        "# 3. Print the third item using tuple indexing\n",
        "print(f\"Your shopping list (tuple): {immutable_basket}\")\n",
        "print(f\"The third item is: {immutable_basket[2]}\")\n"
      ]
    },
    {
      "cell_type": "markdown",
      "metadata": {
        "id": "byKd8SFK9w2y"
      },
      "source": [
        "### Task 2 — Word Stats"
      ]
    },
    {
      "cell_type": "code",
      "execution_count": null,
      "metadata": {
        "id": "4rLrxkPj90p3"
      },
      "outputs": [],
      "source": [
        "sample = \"to be or not to be that is the question\"\n",
        "\n",
        "# 1. Build a set `unique_words` containing every distinct word.\n",
        "# 2. Build a dict `word_counts` mapping each word to the number of times it appears.\n",
        "#    (Hint: .split() + a simple loop)\n",
        "# 3. Print the two structures and explain (in a comment) their main difference.\n",
        "# TODO: your code here\n",
        "\n",
        "# 1. Build a set `unique_words` containing every distinct word\n",
        "unique_words = set(sample.split())\n",
        "\n",
        "# 2. Build a dict `word_counts` mapping each word to the number of times it appears\n",
        "word_counts = {}\n",
        "for word in sample.split():\n",
        "    word_counts[word] = word_counts.get(word, 0) + 1\n",
        "\n",
        "# 3. Print the two structures\n",
        "print(\"Unique words (set):\", unique_words)\n",
        "print(\"Word counts (dict):\", word_counts)\n",
        "\n",
        "# Difference:\n",
        "# ✅ Set: stores ONLY distinct items (no duplicates) and does NOT keep counts.\n",
        "# ✅ Dict: maps each word (key) to its count (value), so you know how many times each appears.\n"
      ]
    },
    {
      "cell_type": "markdown",
      "metadata": {
        "id": "gbGMbtLf94M4"
      },
      "source": [
        "## 3. Functions 🔧\n",
        "**Quick-start notes**\n",
        "\n",
        "* Define with `def`, return with `return`.\n",
        "\n",
        "* Parameters can have default values.\n",
        "\n",
        "* Docstrings (`\"\"\" … \"\"\"`) document behaviour."
      ]
    },
    {
      "cell_type": "markdown",
      "metadata": {
        "id": "QOsToPh2-AnZ"
      },
      "source": [
        "### Task 1 — Prime Tester"
      ]
    },
    {
      "cell_type": "code",
      "execution_count": null,
      "metadata": {
        "id": "_pCU2mIH-DAi"
      },
      "outputs": [],
      "source": [
        "def is_prime(n: int) -> bool:\n",
        "    \"\"\"\n",
        "    Return True if n is a prime number, else False.\n",
        "    0 and 1 are *not* prime.\n",
        "    \"\"\"\n",
        "    # TODO: replace pass with your implementation\n",
        "    if n < 2:\n",
        "        return False\n",
        "    for i in range(2, int(n ** 0.5) + 1):  # چک کردن تا ریشه دوم عدد\n",
        "        if n % i == 0:\n",
        "            return False\n",
        "    return True\n",
        "    pass\n",
        "\n",
        "\n",
        "# Quick self-check\n",
        "print([x for x in range(10) if is_prime(x)])   # Expected: [2, 3, 5, 7]\n"
      ]
    },
    {
      "cell_type": "markdown",
      "metadata": {
        "id": "TBGXIzVV-E5u"
      },
      "source": [
        "### Task 2 — Repeater Greeter"
      ]
    },
    {
      "cell_type": "code",
      "execution_count": null,
      "metadata": {
        "id": "ycvsNyqh-GRM"
      },
      "outputs": [],
      "source": [
        "def greet(name: str, times: int = 1) -> None:\n",
        "    \"\"\"Print `name`, capitalised, exactly `times` times on one line.\"\"\"\n",
        "    # TODO: your code here\n",
        "    print((\" \".join([name.capitalize()] * times)))\n",
        "\n",
        "greet(\"alice\")          # Alice\n",
        "greet(\"bob\", times=3)   # Bob Bob Bob\n"
      ]
    },
    {
      "cell_type": "markdown",
      "metadata": {
        "id": "y7K-GaBC-ImE"
      },
      "source": [
        "## 4. Classes 🏗️\n",
        "**Quick-start notes**\n",
        "\n",
        "* Create with class Name:\n",
        "\n",
        "* Special method __init__ runs on construction.\n",
        "\n",
        "* self refers to the instance; attributes live on self."
      ]
    },
    {
      "cell_type": "markdown",
      "metadata": {
        "id": "NgKjsy8A-N3l"
      },
      "source": [
        "### Task 1 — Simple Counter"
      ]
    },
    {
      "cell_type": "code",
      "execution_count": null,
      "metadata": {
        "id": "dPFvr_fe-OPR"
      },
      "outputs": [],
      "source": [
        "class Counter:\n",
        "    \"\"\"Counts how many times `increment` is called.\"\"\"\n",
        "    # TODO:\n",
        "    # 1. In __init__, store an internal count variable starting at 0.\n",
        "    # 2. Method increment(step: int = 1) adds `step` to the count.\n",
        "    # 3. Method value() returns the current count.\n",
        "    def __init__(self):\n",
        "         self._count = 0\n",
        "\n",
        "    def increment(self, step: int = 1):\n",
        "        \"\"\"Add `step` to the current count.\"\"\"\n",
        "        self._count += step\n",
        "\n",
        "    def value(self) -> int:\n",
        "        \"\"\"Return the current count.\"\"\"\n",
        "        return self._count\n",
        "\n",
        "c = Counter()\n",
        "for _ in range(5):\n",
        "    c.increment()\n",
        "print(c.value())   # Expected: 5\n"
      ]
    },
    {
      "cell_type": "markdown",
      "metadata": {
        "id": "U99aupan-Q8u"
      },
      "source": [
        "### Task 2 — 2-D Point with Distance"
      ]
    },
    {
      "cell_type": "code",
      "execution_count": null,
      "metadata": {
        "id": "OVh3GEzH-T0w"
      },
      "outputs": [],
      "source": [
        "import math\n",
        "\n",
        "class Point:\n",
        "    \"\"\"\n",
        "    A 2-D point supporting distance calculation.\n",
        "    Usage:\n",
        "        p = Point(3, 4)\n",
        "        q = Point(0, 0)\n",
        "        print(p.distance_to(q))  # 5.0\n",
        "    \"\"\"\n",
        "    # TODO:\n",
        "    # 1. Store x and y as attributes.\n",
        "    # 2. Implement distance_to(other) using the Euclidean formula.\n",
        "    def __init__(self, x: float, y: float):\n",
        "        \"\"\"Store x and y as attributes.\"\"\"\n",
        "        self.x = x\n",
        "        self.y = y\n",
        "\n",
        "    def distance_to(self, other: \"Point\") -> float:\n",
        "        \"\"\"Calculate Euclidean distance to another point.\"\"\"\n",
        "        return math.sqrt((self.x - other.x) ** 2 + (self.y - other.y) ** 2)\n",
        "\n",
        "\n",
        "# Smoke test\n",
        "p, q = Point(3, 4), Point(0, 0)\n",
        "assert round(p.distance_to(q), 1) == 5.0\n",
        "print(p.distance_to(q))  # Output: 5.0"
      ]
    }
  ],
  "metadata": {
    "colab": {
      "provenance": []
    },
    "kernelspec": {
      "display_name": "Python 3",
      "name": "python3"
    },
    "language_info": {
      "name": "python"
    }
  },
  "nbformat": 4,
  "nbformat_minor": 0
}